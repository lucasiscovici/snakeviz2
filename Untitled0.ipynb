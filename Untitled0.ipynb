{
  "nbformat": 4,
  "nbformat_minor": 0,
  "metadata": {
    "colab": {
      "name": "Untitled0.ipynb",
      "provenance": [],
      "collapsed_sections": [],
      "authorship_tag": "ABX9TyNkXZlnf0hyW5zZ2uVBx3cJ",
      "include_colab_link": true
    },
    "kernelspec": {
      "name": "python3",
      "display_name": "Python 3"
    },
    "language_info": {
      "name": "python"
    }
  },
  "cells": [
    {
      "cell_type": "markdown",
      "metadata": {
        "id": "view-in-github",
        "colab_type": "text"
      },
      "source": [
        "<a href=\"https://colab.research.google.com/github/lucasiscovici/snakeviz2/blob/master/Untitled0.ipynb\" target=\"_parent\"><img src=\"https://colab.research.google.com/assets/colab-badge.svg\" alt=\"Open In Colab\"/></a>"
      ]
    },
    {
      "cell_type": "code",
      "metadata": {
        "colab": {
          "base_uri": "https://localhost:8080/"
        },
        "id": "Uu2xAVriesa4",
        "outputId": "477b026e-2c8d-4cfe-a5ac-7c1fd79ce2b6"
      },
      "source": [
        "pip install git+https://github.com/lucasiscovici/snakeviz2"
      ],
      "execution_count": null,
      "outputs": [
        {
          "output_type": "stream",
          "name": "stdout",
          "text": [
            "Collecting git+https://github.com/lucasiscovici/snakeviz2\n",
            "  Cloning https://github.com/lucasiscovici/snakeviz2 to /tmp/pip-req-build-bzza_ixk\n",
            "  Running command git clone -q https://github.com/lucasiscovici/snakeviz2 /tmp/pip-req-build-bzza_ixk\n",
            "Requirement already satisfied: tornado>=2.0 in /usr/local/lib/python3.7/dist-packages (from snakeviz-study==2.1.dev0) (5.1.1)\n",
            "Building wheels for collected packages: snakeviz-study\n",
            "  Building wheel for snakeviz-study (setup.py) ... \u001b[?25l\u001b[?25hdone\n",
            "  Created wheel for snakeviz-study: filename=snakeviz_study-2.1.dev0-py2.py3-none-any.whl size=343876 sha256=7efde0808035ed22ee6557d9a39c20ae973dd8400bb2da6f1782bdabb0e0fa7c\n",
            "  Stored in directory: /tmp/pip-ephem-wheel-cache-ypl7fc1s/wheels/c5/2c/e3/a1d3dd061445ba1809125e169480ba3c1c424616c51d606f1b\n",
            "Successfully built snakeviz-study\n",
            "Installing collected packages: snakeviz-study\n",
            "Successfully installed snakeviz-study-2.1.dev0\n"
          ]
        }
      ]
    },
    {
      "cell_type": "code",
      "metadata": {
        "id": "X5NfJF9lh4_z"
      },
      "source": [
        "%load_ext snakeviz_study"
      ],
      "execution_count": null,
      "outputs": []
    },
    {
      "cell_type": "code",
      "metadata": {
        "id": "bTdCH2gLexaL"
      },
      "source": [
        "import numpy as np"
      ],
      "execution_count": null,
      "outputs": []
    },
    {
      "cell_type": "code",
      "metadata": {
        "id": "pEJLSfw0e26_"
      },
      "source": [
        "def test(k):\n",
        "  return np.arange(k)*100"
      ],
      "execution_count": null,
      "outputs": []
    },
    {
      "cell_type": "code",
      "metadata": {
        "colab": {
          "base_uri": "https://localhost:8080/",
          "height": 805
        },
        "id": "tSPh4JtTfDld",
        "outputId": "d8160862-8730-403b-8d2b-36916363c59c"
      },
      "source": [
        "#if no port available\n",
        "%snakeviz -f test.html test(10000)"
      ],
      "execution_count": null,
      "outputs": [
        {
          "output_type": "stream",
          "name": "stdout",
          "text": [
            " \n",
            "*** Profile stats marshalled to file '/tmp/tmprikm6mzq'. \n"
          ]
        },
        {
          "output_type": "display_data",
          "data": {
            "text/html": [
              "\n",
              "        <iframe\n",
              "            width=\"100%\"\n",
              "            height=\"750\"\n",
              "            src=\"data:text/html;base64,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\"\n",
              "            frameborder=\"0\"\n",
              "            allowfullscreen\n",
              "        ></iframe>\n",
              "        "
            ],
            "text/plain": [
              "<IPython.lib.display.IFrame at 0x7f9545188150>"
            ]
          },
          "metadata": {}
        }
      ]
    },
    {
      "cell_type": "code",
      "metadata": {
        "colab": {
          "base_uri": "https://localhost:8080/"
        },
        "id": "t5bf7pO5fT1T",
        "outputId": "eb064f90-7770-49f5-b99a-b27f61e99a67"
      },
      "source": [
        "ls"
      ],
      "execution_count": null,
      "outputs": [
        {
          "output_type": "stream",
          "name": "stdout",
          "text": [
            "\u001b[0m\u001b[01;34msample_data\u001b[0m/  test.html\n"
          ]
        }
      ]
    },
    {
      "cell_type": "code",
      "metadata": {
        "id": "JYYF-XzjjocP"
      },
      "source": [
        "#if specific port available\n",
        "%snakeviz -p 8081 test(10000)"
      ],
      "execution_count": null,
      "outputs": []
    },
    {
      "cell_type": "code",
      "metadata": {
        "id": "Pr6Eolcvjrd7"
      },
      "source": [
        "#if specific host\n",
        "%snakeviz -H 192.168.0.2 test(10000)"
      ],
      "execution_count": null,
      "outputs": []
    },
    {
      "cell_type": "code",
      "metadata": {
        "id": "BE9REVi7j7-X"
      },
      "source": [
        "#if specific snakeviz_study exec\n",
        "%snakeviz -e /home/lib/snakeviz test(10000)"
      ],
      "execution_count": null,
      "outputs": []
    },
    {
      "cell_type": "code",
      "metadata": {
        "id": "kthOuaVakLNa"
      },
      "source": [
        "# On databricks azure\n",
        "# specific exec and file\n",
        "from pathlib import Path\n",
        "#from IPython.display import display_html as displayHTML #displayHTML already exist in databricks\n",
        "%snakeviz -e /home/lib/snakeviz -f /home/lib/test.html \n",
        "test=Path(\"/home/lib/test.html\").read_text()\n",
        "displayHTML(f\"<div style='max-height:1000px; overflow:scroll'>{test}</div>\")"
      ],
      "execution_count": null,
      "outputs": []
    },
    {
      "cell_type": "code",
      "metadata": {
        "id": "VjthQwyYkPSA"
      },
      "source": [
        ""
      ],
      "execution_count": null,
      "outputs": []
    }
  ]
}